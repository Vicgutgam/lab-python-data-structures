{
 "cells": [
  {
   "cell_type": "markdown",
   "metadata": {
    "tags": []
   },
   "source": [
    "# Lab | Data Structures "
   ]
  },
  {
   "cell_type": "markdown",
   "metadata": {},
   "source": [
    "## Exercise: Managing Customer Orders\n",
    "\n",
    "As part of a business venture, you are starting an online store that sells various products. To ensure smooth operations, you need to develop a program that manages customer orders and inventory.\n",
    "\n",
    "Follow the steps below to complete the exercise:\n",
    "\n",
    "1. Define a list called `products` that contains the following items: \"t-shirt\", \"mug\", \"hat\", \"book\", \"keychain\".\n",
    "\n",
    "2. Create an empty dictionary called `inventory`.\n",
    "\n",
    "3. Ask the user to input the quantity of each product available in the inventory. Use the product names from the `products` list as keys in the `inventory` dictionary and assign the respective quantities as values.\n",
    "\n",
    "4. Create an empty set called `customer_orders`.\n",
    "\n",
    "5. Ask the user to input the name of three products that a customer wants to order (from those in the products list, meaning three products out of \"t-shirt\", \"mug\", \"hat\", \"book\" or \"keychain\". Add each product name to the `customer_orders` set.\n",
    "\n",
    "6. Print the products in the `customer_orders` set.\n",
    "\n",
    "7. Calculate the following order statistics:\n",
    "   - Total Products Ordered: The total number of products in the `customer_orders` set.\n",
    "   - Percentage of Products Ordered: The percentage of products ordered compared to the total available products.\n",
    "   \n",
    "   Store these statistics in a tuple called `order_status`.\n",
    "\n",
    "8. Print the order statistics using the following format:\n",
    "   ```\n",
    "   Order Statistics:\n",
    "   Total Products Ordered: <total_products_ordered>\n",
    "   Percentage of Products Ordered: <percentage_ordered>% \n",
    "   ```\n",
    "\n",
    "9. Update the inventory by subtracting 1 from the quantity of each product. Modify the `inventory` dictionary accordingly.\n",
    "\n",
    "10. Print the updated inventory, displaying the quantity of each product on separate lines.\n",
    "\n",
    "Solve the exercise by implementing the steps using the Python concepts of lists, dictionaries, sets, and basic input/output operations. "
   ]
  },
  {
   "cell_type": "code",
   "execution_count": 3,
   "metadata": {},
   "outputs": [
    {
     "name": "stdout",
     "output_type": "stream",
     "text": [
      "Número de camisetas: 1\n",
      "Número de tazas: 1\n",
      "Número de sombreros: 1\n",
      "Número de libros: 1\n",
      "Número de llaveros: 1\n",
      "{'t-shirt': 1, 'mug': 1, 'hat': 1, 'book': 1, 'keychain': 1}\n"
     ]
    }
   ],
   "source": [
    "productos=[\"t-shirt\", \"mug\", \"hat\", \"book\", \"keychain\"]\n",
    "inventario={}\n",
    "\n",
    "camisetas=int(input('Número de camisetas: '))\n",
    "taza=int(input('Número de tazas: '))\n",
    "som=int(input('Número de sombreros: '))\n",
    "libro=int(input('Número de libros: '))\n",
    "llavero=int(input('Número de llaveros: '))\n",
    "inventario.update({'t-shirt':camisetas,'mug':taza,'hat':som,'book':libro,'keychain':llavero})\n",
    "print(inventario)"
   ]
  },
  {
   "cell_type": "code",
   "execution_count": 4,
   "metadata": {},
   "outputs": [
    {
     "name": "stdout",
     "output_type": "stream",
     "text": [
      "Elige tres productos entre: camisetas, tazas, sobreros, libros y llaveros: taza\n",
      "{'taza'}\n"
     ]
    }
   ],
   "source": [
    "# productos=[\"t-shirt\", \"mug\", \"hat\", \"book\", \"keychain\"]\n",
    "customer_orders=set()\n",
    "pedido=input('Elige tres productos entre: camisetas, tazas, sobreros, libros y llaveros: ')\n",
    "if \"camiseta\"in pedido:\n",
    "    customer_orders.add('camisetas')\n",
    "if \"taza\"in pedido:\n",
    "    customer_orders.add('taza')\n",
    "if \"sombrero\"in pedido:\n",
    "    customer_orders.add('sombrero')\n",
    "if \"libro\"in pedido:\n",
    "    customer_orders.add('libro')\n",
    "if \"llavero\"in pedido:\n",
    "    customer_orders.add('llavero')\n",
    "    \n",
    "print(customer_orders)\n"
   ]
  },
  {
   "cell_type": "code",
   "execution_count": 5,
   "metadata": {},
   "outputs": [
    {
     "name": "stdout",
     "output_type": "stream",
     "text": [
      "Order Statistics:\n",
      "Total Products Ordered: 1\n",
      "Percentage of Products Ordered: 20.0\n"
     ]
    }
   ],
   "source": [
    "#7.Calculate the following order statistics:\n",
    "#8.Print the order statistics using the following format:\n",
    "\n",
    "n=len(customer_orders)\n",
    "\n",
    "\n",
    "\n",
    "\n",
    "\n",
    "s=camisetas+taza+som+libro+llavero\n",
    "porcentaje=(n*100)/s \n",
    "print('Order Statistics:')\n",
    "print('Total Products Ordered:',n)\n",
    "print('Percentage of Products Ordered:',porcentaje)"
   ]
  },
  {
   "cell_type": "code",
   "execution_count": 9,
   "metadata": {},
   "outputs": [
    {
     "name": "stdout",
     "output_type": "stream",
     "text": [
      "{'t-shirt': 1, 'mug': 0, 'hat': 1, 'book': 0, 'keychain': 1}\n"
     ]
    }
   ],
   "source": [
    "#Update the inventory by subtracting 1 from the quantity of each product. Modify the inventory dictionary accordingly.\n",
    "#Print the updated inventory, displaying the quantity of each product on separate lines.\n",
    "if \"camiseta\"in pedido:\n",
    "       invetario['t-shirt']=(camisetas-1)\n",
    "if \"taza\"in pedido:\n",
    "    inventario['mug']=(taza-1)\n",
    "if \"sombrero\"in pedido:\n",
    "    inventario['hat']=(som-1)\n",
    "if \"libro\"in pedido:\n",
    "    inventario['book']=(libro-1)\n",
    "if \"llavero\"in pedido:\n",
    "    inventario['keychain']=(llavero-1)\n",
    "\n",
    "print(inventario)\n",
    "    \n",
    "#'t-shirt':camisetas,'mug':taza,'hat':som,'book':libro,'keychain':llavero})"
   ]
  },
  {
   "cell_type": "code",
   "execution_count": null,
   "metadata": {},
   "outputs": [],
   "source": []
  }
 ],
 "metadata": {
  "kernelspec": {
   "display_name": "Python 3 (ipykernel)",
   "language": "python",
   "name": "python3"
  },
  "language_info": {
   "codemirror_mode": {
    "name": "ipython",
    "version": 3
   },
   "file_extension": ".py",
   "mimetype": "text/x-python",
   "name": "python",
   "nbconvert_exporter": "python",
   "pygments_lexer": "ipython3",
   "version": "3.11.5"
  }
 },
 "nbformat": 4,
 "nbformat_minor": 4
}
